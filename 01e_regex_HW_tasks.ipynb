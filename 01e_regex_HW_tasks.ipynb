{
 "cells": [
  {
   "cell_type": "markdown",
   "metadata": {},
   "source": [
    "# Exercise Text Mining"
   ]
  },
  {
   "cell_type": "markdown",
   "metadata": {},
   "source": [
    "## Regex\n",
    "Use the `re` package of Python. Have a look at the specifics of the python regex at: https://docs.python.org/3.8/library/re.html (*Highly recommended*)"
   ]
  },
  {
   "cell_type": "markdown",
   "metadata": {},
   "source": [
    "### 1) Write a regular expression that checks if \"hello world\" is contained in a string"
   ]
  },
  {
   "cell_type": "code",
   "execution_count": null,
   "metadata": {},
   "outputs": [],
   "source": []
  },
  {
   "cell_type": "markdown",
   "metadata": {},
   "source": [
    "### 2) Write a regular expression that selects all integer numbers from a text"
   ]
  },
  {
   "cell_type": "code",
   "execution_count": 1,
   "metadata": {},
   "outputs": [],
   "source": [
    "s = \"This is a 2018 text, the first useless text I write after 2017 ended. Smaller numbers like 123 are also detected.\""
   ]
  },
  {
   "cell_type": "markdown",
   "metadata": {},
   "source": [
    "### 3) Write a regular expression that finds two words connected by a \"-\" (e.g., ill-advised)"
   ]
  },
  {
   "cell_type": "code",
   "execution_count": 2,
   "metadata": {},
   "outputs": [],
   "source": [
    "s = \"This my so-so example text. It features well-received meaningless words.\""
   ]
  },
  {
   "cell_type": "markdown",
   "metadata": {},
   "source": [
    "### 4) Write a regular expression that selects numbers with at least 4 digits from a text"
   ]
  },
  {
   "cell_type": "code",
   "execution_count": 3,
   "metadata": {},
   "outputs": [],
   "source": [
    "s = \"This is a 2018 text, the second useless text I write after 2017 ended. Smaller numbers like 123 are not detected, but 32145 is.\""
   ]
  },
  {
   "cell_type": "markdown",
   "metadata": {},
   "source": [
    "### 5) Write a regex that extract dates in the format YYYY-mm-DD:\n",
    "Assume that Y, m or D are valid when they are digits. For more advanced see below.\n",
    "No, dont google it!"
   ]
  },
  {
   "cell_type": "code",
   "execution_count": 5,
   "metadata": {},
   "outputs": [],
   "source": [
    "s = \"2017-05-12 and 2018-01-01 are correct formats and 2017-25-01 as well. The 12/12/2017 is not detected.\""
   ]
  },
  {
   "cell_type": "markdown",
   "metadata": {},
   "source": [
    "### 6) Write a regex that finds all URLS in a string. For sake of simplicity, an url starts with \"http://\" or \"https://\" and contains at least one dot, which is not at the end"
   ]
  },
  {
   "cell_type": "code",
   "execution_count": 6,
   "metadata": {},
   "outputs": [],
   "source": [
    "t1 = \"my url is http://www.example.com, did you know? http://test\""
   ]
  },
  {
   "cell_type": "markdown",
   "metadata": {},
   "source": [
    "# More advanced regex\n",
    "The following questions are a little more advanced and build up on previous tasks"
   ]
  },
  {
   "cell_type": "markdown",
   "metadata": {},
   "source": [
    "### 2+) Make sure you only select integers that are sorrounded by whitespaces "
   ]
  },
  {
   "cell_type": "code",
   "execution_count": 7,
   "metadata": {},
   "outputs": [],
   "source": [
    "t1 = (\"This is a 2018 text, the first useless text I write after 2017 ended.\" + \n",
    "\" Smaller numbers like 123 are also detected. The number 9.234 should not be detected\")"
   ]
  },
  {
   "cell_type": "markdown",
   "metadata": {},
   "source": [
    "### 4+) Write a regular expression that matches years in a text. A year is a 4 digit number that is sorrounded by whitespaces and in the range from 0000 to 2020."
   ]
  },
  {
   "cell_type": "code",
   "execution_count": 8,
   "metadata": {},
   "outputs": [],
   "source": [
    "t1 = (\"This is a 2018 text, the first useless text I write after 2017 ended.\" + \n",
    "\" The number 3020 should not be detected The number 2021 should not be detected.\"+\n",
    "      \" The numbers 0000 and 0100 and 2019 are in!\")"
   ]
  },
  {
   "cell_type": "markdown",
   "metadata": {},
   "source": [
    "### 5+) Write a regex that extract dates in the format YYYY-mm-DD or YYYY/mm/DD. Make sure that yyyy is a valid year, mm is a valid month (1 to 12), DD is a valid date (1 to 31)\n",
    "There is no need to make sure that e.g. XXXX-02-31 does not exist"
   ]
  },
  {
   "cell_type": "code",
   "execution_count": 9,
   "metadata": {},
   "outputs": [],
   "source": [
    "s = \"2017-05-12 and 2018-01-01 are correct formats, but 2017-25-01 is not. This works: 2017/12/20.\""
   ]
  },
  {
   "cell_type": "markdown",
   "metadata": {},
   "source": [
    "### Make yourself familiar with the different kinds of regex commands `re.XXXX(pattern, string)` available in python. Describe the differences between them"
   ]
  },
  {
   "cell_type": "code",
   "execution_count": null,
   "metadata": {},
   "outputs": [],
   "source": []
  },
  {
   "cell_type": "markdown",
   "metadata": {},
   "source": [
    "## Levenshtein distance algorithm\n",
    "Write a function that calculates the levenshtein algorithm.\n",
    "Your function should compute the min-edit-distance for two strings given as input"
   ]
  },
  {
   "cell_type": "code",
   "execution_count": 10,
   "metadata": {},
   "outputs": [],
   "source": [
    "def levenshtein(str1, str2):\n",
    "    pass"
   ]
  },
  {
   "cell_type": "code",
   "execution_count": null,
   "metadata": {},
   "outputs": [],
   "source": []
  },
  {
   "cell_type": "markdown",
   "metadata": {},
   "source": [
    "# NLTK\n",
    "nltk is a powerful python natural language toolkit. It comes with a lot of implementations for standard tasks."
   ]
  },
  {
   "cell_type": "markdown",
   "metadata": {},
   "source": [
    "## Install NLTK"
   ]
  },
  {
   "cell_type": "raw",
   "metadata": {},
   "source": [
    "Easiest way (likely)\n",
    "pip install nltk\n",
    "\n",
    "Then write in anaconda prompt: (can also do it here in jupyter)\n",
    "import nltk\n",
    "nltk.download(\"wordnet\")\n",
    "nltk.download('punkt')"
   ]
  },
  {
   "cell_type": "code",
   "execution_count": 11,
   "metadata": {},
   "outputs": [],
   "source": [
    "#import nltk\n",
    "#nltk.download(\"wordnet\")\n",
    "#nltk.download('punkt')"
   ]
  },
  {
   "cell_type": "markdown",
   "metadata": {},
   "source": [
    "## Tokenizing  and Preprocessing"
   ]
  },
  {
   "cell_type": "markdown",
   "metadata": {},
   "source": [
    "### Tokenize this text into (a) sentences and (b) words:"
   ]
  },
  {
   "cell_type": "code",
   "execution_count": 35,
   "metadata": {},
   "outputs": [],
   "source": [
    "text = \"Tokenize this sentence into sentences and words. This is the task Mr. Lemmerich gave to you. Why, i.e., what the purpose of this, is remains unknown.\""
   ]
  },
  {
   "cell_type": "code",
   "execution_count": null,
   "metadata": {
    "scrolled": true
   },
   "outputs": [],
   "source": []
  },
  {
   "cell_type": "code",
   "execution_count": null,
   "metadata": {
    "scrolled": true
   },
   "outputs": [],
   "source": []
  },
  {
   "cell_type": "markdown",
   "metadata": {},
   "source": [
    "### Pen and Paper: Stemming\n",
    "Which of the following pairs should in your opinion not be conflated? Give your reasoning\n"
   ]
  },
  {
   "cell_type": "raw",
   "metadata": {},
   "source": [
    "a. abandon/abandonment\n",
    "b. absorbency/absorbent\n",
    "c. marketing/markets\n",
    "d. university/universe\n",
    "e. volume/volumes"
   ]
  }
 ],
 "metadata": {
  "kernelspec": {
   "display_name": "Python 3",
   "language": "python",
   "name": "python3"
  },
  "language_info": {
   "codemirror_mode": {
    "name": "ipython",
    "version": 3
   },
   "file_extension": ".py",
   "mimetype": "text/x-python",
   "name": "python",
   "nbconvert_exporter": "python",
   "pygments_lexer": "ipython3",
   "version": "3.8.6"
  }
 },
 "nbformat": 4,
 "nbformat_minor": 2
}
